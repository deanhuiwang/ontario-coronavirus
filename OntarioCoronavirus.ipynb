{
 "cells": [
  {
   "cell_type": "code",
   "execution_count": 1,
   "metadata": {},
   "outputs": [],
   "source": [
    "import numpy as np\n",
    "from scipy.optimize import curve_fit\n",
    "import matplotlib.pyplot as plt\n",
    "import math\n",
    "import csv\n",
    "from datetime import datetime"
   ]
  },
  {
   "cell_type": "code",
   "execution_count": 2,
   "metadata": {},
   "outputs": [],
   "source": [
    "current_date = str(datetime.date(datetime.now()))\n",
    "image_filename = \"img/\" + current_date + \".png\""
   ]
  },
  {
   "cell_type": "code",
   "execution_count": 3,
   "metadata": {},
   "outputs": [],
   "source": [
    "# open the dataset\n",
    "with open('OntarioCoronavirus.csv', 'r') as f:\n",
    "    cases = list(csv.reader(f, delimiter=','))"
   ]
  },
  {
   "cell_type": "code",
   "execution_count": 4,
   "metadata": {},
   "outputs": [
    {
     "name": "stdout",
     "output_type": "stream",
     "text": [
      "[[1, 0], [2, 2], [3, 6]]\n"
     ]
    }
   ],
   "source": [
    "# get only the cases and days columns without the header\n",
    "cases_col_name = \"Ontario Cases\"\n",
    "days_col_name = \"Days since start\"\n",
    "cases_col_num = cases[0].index(cases_col_name)\n",
    "days_col_num = cases[0].index(days_col_name)\n",
    "cases = cases[1:]\n",
    "cases = [[int(case[cases_col_num]), int(case[days_col_num])] for case in cases]\n",
    "print(cases[:3])"
   ]
  },
  {
   "cell_type": "code",
   "execution_count": 5,
   "metadata": {},
   "outputs": [],
   "source": [
    "# convert to np\n",
    "cases_array = np.array(cases[3:], dtype=np.float)\n",
    "x = cases_array[:,1]\n",
    "y = cases_array[:,0]"
   ]
  },
  {
   "cell_type": "code",
   "execution_count": 6,
   "metadata": {},
   "outputs": [
    {
     "name": "stdout",
     "output_type": "stream",
     "text": [
      "0.9948222914072583\n"
     ]
    }
   ],
   "source": [
    "# fit exponential\n",
    "def exponential(x, a, b, c):\n",
    "    return a * np.exp(-b * x) + c\n",
    "\n",
    "popt, pcov = curve_fit(exponential, x, y, p0=[0,0,0])\n",
    "residuals = y - exponential(x, *popt)\n",
    "ss_res = np.sum(residuals**2)\n",
    "ss_tot = np.sum((y-np.mean(y))**2)\n",
    "r_squared = 1 - (ss_res / ss_tot)\n",
    "print(r_squared)"
   ]
  },
  {
   "cell_type": "code",
   "execution_count": 7,
   "metadata": {},
   "outputs": [
    {
     "name": "stdout",
     "output_type": "stream",
     "text": [
      "0.9961380481688178\n",
      "[1.53447503e+03 2.08080065e-01 6.14991916e+01]\n"
     ]
    }
   ],
   "source": [
    "# fit logistic\n",
    "def logistic(x, a, b, c):\n",
    "    return a / (1 + np.exp(-b * (x - c)))\n",
    "\n",
    "l_popt, l_pcov = curve_fit(logistic, x, y, p0=[0,0,0])\n",
    "l_residuals = y - logistic(x, *l_popt)\n",
    "l_ss_res = np.sum(l_residuals**2)\n",
    "l_ss_tot = np.sum((y-np.mean(y))**2)\n",
    "l_r_squared = 1 - (l_ss_res / l_ss_tot)\n",
    "print(l_r_squared)\n",
    "print(l_popt)"
   ]
  },
  {
   "cell_type": "code",
   "execution_count": 8,
   "metadata": {},
   "outputs": [
    {
     "data": {
      "image/png": "[encoded data removed]",
      "text/plain": [
       "<Figure size 432x288 with 1 Axes>"
      ]
     },
     "metadata": {},
     "output_type": "display_data"
    }
   ],
   "source": [
    "# create plot\n",
    "plt.figure()\n",
    "plt.plot(x, y, 'ko', \n",
    "         label=\"Original Data\")\n",
    "\n",
    "# plot exponential curve\n",
    "plt.plot(x, exponential(x, *popt), \n",
    "         label=\"Fitted Exponential Curve. $R^2$ = {:.3f}\"\n",
    "         .format(r_squared))\n",
    "\n",
    "# plot logistic curve\n",
    "plt.plot(cases_array[:,1], logistic(cases_array[:,1], *l_popt), \n",
    "         label=\"Fitted Logistic Curve. $R^2$ = {:.3f}\"\n",
    "         .format(l_r_squared))\n",
    "\n",
    "# create labels and ticks\n",
    "plt.legend()\n",
    "plt.title(\"Ontario COVID-19 Cases as of \" + current_date)\n",
    "plt.ylabel(\"Confirmed Cases\")\n",
    "plt.xlabel(\"Days Since Jan 25 2020 (Date of First Case)\")\n",
    "xticks = np.array([i * 5 for i in range(math.ceil(max(x) / 5) + 1) if i >= 5])\n",
    "plt.xticks(xticks, xticks)\n",
    "\n",
    "# save plot above to a file named after the current date\n",
    "plt.savefig(image_filename)\n",
    "\n",
    "# display plot\n",
    "plt.show()"
   ]
  },
  {
   "cell_type": "code",
   "execution_count": 9,
   "metadata": {},
   "outputs": [
    {
     "name": "stdout",
     "output_type": "stream",
     "text": [
      "Exponential prediction for the next day: 607 confirmed cases\n",
      "Logistic prediction for the next day: 572 confirmed cases\n"
     ]
    }
   ],
   "source": [
    "# predict number of cases for the next day\n",
    "dates_with_tomorrow = np.append(x, max(x)+1)\n",
    "exponential_prediction = exponential(dates_with_tomorrow, *popt)[-1]\n",
    "logistic_prediction = logistic(dates_with_tomorrow, *l_popt)[-1]\n",
    "prediction_text = (\"Exponential prediction for the next day: {:.0f} confirmed cases\"\n",
    "                   .format(round(exponential_prediction)))\n",
    "l_prediction_text = (\"Logistic prediction for the next day: {:.0f} confirmed cases\"\n",
    "                     .format(round(logistic_prediction)))\n",
    "print(prediction_text)\n",
    "print(l_prediction_text)"
   ]
  },
  {
   "cell_type": "code",
   "execution_count": 10,
   "metadata": {},
   "outputs": [],
   "source": [
    "# create readme\n",
    "with open('readme_text/intro.md', 'r') as f:\n",
    "    text = f.read()\n",
    "\n",
    "text = text + \"\\n## Graph\\n\"\n",
    "text = text + \"![Graph of Ontario COVID-19 Cases](https://github.com/deanhuiwang/ontario-coronavirus/blob/master/img/\" + current_date + \".png)\\n\\n\"\n",
    "text = text + \"## Prediction\\n\"\n",
    "text = text + prediction_text + \"\\n\\n\"\n",
    "text = text + l_prediction_text + \"\\n\"\n",
    "    \n",
    "with open('README.md', 'w') as f:\n",
    "    f.write(text)"
   ]
  }
 ],
 "metadata": {
  "kernelspec": {
   "display_name": "Python 3",
   "language": "python",
   "name": "python3"
  },
  "language_info": {
   "codemirror_mode": {
    "name": "ipython",
    "version": 3
   },
   "file_extension": ".py",
   "mimetype": "text/x-python",
   "name": "python",
   "nbconvert_exporter": "python",
   "pygments_lexer": "ipython3",
   "version": "3.6.5"
  }
 },
 "nbformat": 4,
 "nbformat_minor": 2
}
