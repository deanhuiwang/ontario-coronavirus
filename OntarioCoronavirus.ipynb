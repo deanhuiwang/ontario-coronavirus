{
 "cells": [
  {
   "cell_type": "code",
   "execution_count": 1,
   "metadata": {},
   "outputs": [],
   "source": [
    "import numpy as np\n",
    "from scipy.optimize import curve_fit\n",
    "import matplotlib.pyplot as plt\n",
    "import csv"
   ]
  },
  {
   "cell_type": "code",
   "execution_count": 2,
   "metadata": {},
   "outputs": [],
   "source": [
    "# open the dataset\n",
    "with open('OntarioCoronavirus.csv', 'r') as f:\n",
    "    cases = list(csv.reader(f, delimiter=','))"
   ]
  },
  {
   "cell_type": "code",
   "execution_count": 3,
   "metadata": {},
   "outputs": [
    {
     "name": "stdout",
     "output_type": "stream",
     "text": [
      "[[-2, -29], [-1, -27], [0, -23]]\n"
     ]
    }
   ],
   "source": [
    "# get only the cases and days columns without the header\n",
    "cases_col_name = \"Cases Since Feb 23\"\n",
    "days_col_name = \"Days Since Feb 23\"\n",
    "cases_col_num = cases[0].index(cases_col_name)\n",
    "days_col_num = cases[0].index(days_col_name)\n",
    "cases = cases[1:]\n",
    "cases = [[int(case[cases_col_num]), int(case[days_col_num])] for case in cases]\n",
    "print(cases[:3])"
   ]
  },
  {
   "cell_type": "code",
   "execution_count": 4,
   "metadata": {},
   "outputs": [],
   "source": [
    "# convert to np\n",
    "cases_array = np.array(cases[3:], dtype=np.float)\n",
    "x = cases_array[:,1]\n",
    "y = cases_array[:,0]"
   ]
  },
  {
   "cell_type": "code",
   "execution_count": 5,
   "metadata": {},
   "outputs": [
    {
     "name": "stdout",
     "output_type": "stream",
     "text": [
      "0.9557597525830608\n"
     ]
    }
   ],
   "source": [
    "# fit exponential\n",
    "def exponential(x, a, b, c):\n",
    "    return a * np.exp(-b * x) + c\n",
    "\n",
    "popt, pcov = curve_fit(exponential, x, y, p0=[0,0,0])\n",
    "residuals = y - exponential(x, *popt)\n",
    "ss_res = np.sum(residuals**2)\n",
    "ss_tot = np.sum((y-np.mean(y))**2)\n",
    "r_squared = 1 - (ss_res / ss_tot)\n",
    "print(r_squared)"
   ]
  },
  {
   "cell_type": "code",
   "execution_count": 6,
   "metadata": {},
   "outputs": [],
   "source": [
    "# fit logistic\n",
    "# def logistic(x, a, b, c):\n",
    "#     return a / (1 + np.exp(-b * (x - c)))\n",
    "\n",
    "# l_popt, l_pcov = curve_fit(logistic, x, y, p0=[3,3,3])\n",
    "# l_residuals = y - logistic(x, *popt)\n",
    "# l_ss_res = np.sum(l_residuals**2)\n",
    "# l_ss_tot = np.sum((y-np.mean(y))**2)\n",
    "# l_r_squared = 1 - (l_ss_res / l_ss_tot)\n",
    "# print(l_r_squared)"
   ]
  },
  {
   "cell_type": "code",
   "execution_count": 7,
   "metadata": {},
   "outputs": [
    {
     "data": {
      "image/png": "[encoded data removed]",
      "text/plain": [
       "<Figure size 432x288 with 1 Axes>"
      ]
     },
     "metadata": {},
     "output_type": "display_data"
    }
   ],
   "source": [
    "# plot\n",
    "plt.figure()\n",
    "plt.plot(cases_array[:,1], cases_array[:,0], 'ko', label=\"Original Data\")\n",
    "plt.plot(cases_array[:,1], exponential(cases_array[:,1], *popt), label=\"Fitted Exponential Curve. $R^2$ = {:.3f}\".format(r_squared))\n",
    "# plt.plot(cases_array[:,1], logistic(cases_array[:,1], *l_popt), label=\"Fitted Logistic Curve\")\n",
    "plt.legend()\n",
    "plt.title(\"Ontario Coronavirus Cases\")\n",
    "plt.ylabel(\"Cases\")\n",
    "plt.xlabel(\"Days\")\n",
    "plt.show()"
   ]
  },
  {
   "cell_type": "code",
   "execution_count": 8,
   "metadata": {},
   "outputs": [
    {
     "data": {
      "text/plain": [
       "'83.0'"
      ]
     },
     "execution_count": 8,
     "metadata": {},
     "output_type": "execute_result"
    }
   ],
   "source": [
    "dates_with_tomorrow = np.append(x, max(x)+1)\n",
    "exponential_prediction = exponential(dates_with_tomorrow, *popt)[-1]\n",
    "str(round(exponential_prediction))"
   ]
  },
  {
   "cell_type": "code",
   "execution_count": null,
   "metadata": {},
   "outputs": [],
   "source": []
  }
 ],
 "metadata": {
  "kernelspec": {
   "display_name": "Python 3",
   "language": "python",
   "name": "python3"
  },
  "language_info": {
   "codemirror_mode": {
    "name": "ipython",
    "version": 3
   },
   "file_extension": ".py",
   "mimetype": "text/x-python",
   "name": "python",
   "nbconvert_exporter": "python",
   "pygments_lexer": "ipython3",
   "version": "3.7.0"
  }
 },
 "nbformat": 4,
 "nbformat_minor": 2
}
